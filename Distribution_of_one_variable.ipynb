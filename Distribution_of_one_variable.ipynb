{
  "nbformat": 4,
  "nbformat_minor": 0,
  "metadata": {
    "colab": {
      "name": "Distribution of one variable.ipynb",
      "provenance": [],
      "include_colab_link": true
    },
    "kernelspec": {
      "name": "python3",
      "display_name": "Python 3"
    }
  },
  "cells": [
    {
      "cell_type": "markdown",
      "metadata": {
        "id": "view-in-github",
        "colab_type": "text"
      },
      "source": [
        "<a href=\"https://colab.research.google.com/github/dexweng/Statistics/blob/master/Distribution_of_one_variable.ipynb\" target=\"_parent\"><img src=\"https://colab.research.google.com/assets/colab-badge.svg\" alt=\"Open In Colab\"/></a>"
      ]
    },
    {
      "cell_type": "markdown",
      "metadata": {
        "id": "yVyDHznDqTWa",
        "colab_type": "text"
      },
      "source": [
        "# **Distribution Center**"
      ]
    },
    {
      "cell_type": "markdown",
      "metadata": {
        "id": "mGf6z2B3qkYn",
        "colab_type": "text"
      },
      "source": [
        "**Mean(平均數)**"
      ]
    },
    {
      "cell_type": "code",
      "metadata": {
        "id": "gemplnknqHQO",
        "colab_type": "code",
        "colab": {
          "base_uri": "https://localhost:8080/",
          "height": 34
        },
        "outputId": "00169576-ca12-4da3-b0b1-985a0efb6181"
      },
      "source": [
        "import numpy as np\n",
        "x = np.arange(10)\n",
        "x.mean() #or you can get the same result from np.mean(x)"
      ],
      "execution_count": 1,
      "outputs": [
        {
          "output_type": "execute_result",
          "data": {
            "text/plain": [
              "4.5"
            ]
          },
          "metadata": {
            "tags": []
          },
          "execution_count": 1
        }
      ]
    },
    {
      "cell_type": "code",
      "metadata": {
        "id": "7kNZhBPjqZnC",
        "colab_type": "code",
        "colab": {
          "base_uri": "https://localhost:8080/",
          "height": 34
        },
        "outputId": "fe627778-6c7a-4024-c0c8-e34864f5bd50"
      },
      "source": [
        "#如果數字當中有NaN 我們可以透過另一個辦法來獲得mean\n",
        "x_NaN = np.hstack((x, np.nan)) #append NaN\n",
        "np.nanmean(x_NaN)"
      ],
      "execution_count": 2,
      "outputs": [
        {
          "output_type": "execute_result",
          "data": {
            "text/plain": [
              "4.5"
            ]
          },
          "metadata": {
            "tags": []
          },
          "execution_count": 2
        }
      ]
    },
    {
      "cell_type": "markdown",
      "metadata": {
        "id": "1VMd1TO_rQT4",
        "colab_type": "text"
      },
      "source": [
        "**Median(中位數)**"
      ]
    },
    {
      "cell_type": "code",
      "metadata": {
        "id": "weQQp-BLqoX1",
        "colab_type": "code",
        "colab": {
          "base_uri": "https://localhost:8080/",
          "height": 34
        },
        "outputId": "13cdec25-459f-4e42-ebc2-6d9567c0a3c4"
      },
      "source": [
        "x = np.arange(10)\n",
        "np.median(x)"
      ],
      "execution_count": 3,
      "outputs": [
        {
          "output_type": "execute_result",
          "data": {
            "text/plain": [
              "4.5"
            ]
          },
          "metadata": {
            "tags": []
          },
          "execution_count": 3
        }
      ]
    },
    {
      "cell_type": "markdown",
      "metadata": {
        "id": "9b22iT6HrZ8L",
        "colab_type": "text"
      },
      "source": [
        "**Mode(眾數)**"
      ]
    },
    {
      "cell_type": "code",
      "metadata": {
        "id": "7sYcoJd4qoaC",
        "colab_type": "code",
        "colab": {
          "base_uri": "https://localhost:8080/",
          "height": 34
        },
        "outputId": "e64f2fae-dc77-4893-b6ef-1d5eb4f2ffc7"
      },
      "source": [
        "from scipy import stats\n",
        "data = [1, 5, 5, 5, 9]\n",
        "\n",
        "print(stats.mode(data)[0])"
      ],
      "execution_count": 8,
      "outputs": [
        {
          "output_type": "stream",
          "text": [
            "[5]\n"
          ],
          "name": "stdout"
        }
      ]
    },
    {
      "cell_type": "markdown",
      "metadata": {
        "id": "YromI59qr2Ix",
        "colab_type": "text"
      },
      "source": [
        "**Geometric Mean(幾何平均數)**"
      ]
    },
    {
      "cell_type": "code",
      "metadata": {
        "id": "Gtd01ihVqols",
        "colab_type": "code",
        "colab": {
          "base_uri": "https://localhost:8080/",
          "height": 34
        },
        "outputId": "36d8f8f5-59fb-4039-a4b8-659859b1b64f"
      },
      "source": [
        "x = np.arange(1, 101)\n",
        "stats.gmean(x)"
      ],
      "execution_count": 9,
      "outputs": [
        {
          "output_type": "execute_result",
          "data": {
            "text/plain": [
              "37.992689344834304"
            ]
          },
          "metadata": {
            "tags": []
          },
          "execution_count": 9
        }
      ]
    },
    {
      "cell_type": "markdown",
      "metadata": {
        "id": "Q1nH6BBJsVLs",
        "colab_type": "text"
      },
      "source": [
        "# **Qualifying Variability**"
      ]
    },
    {
      "cell_type": "markdown",
      "metadata": {
        "id": "eoqwFpB2sbgF",
        "colab_type": "text"
      },
      "source": [
        "**Range**\n",
        "\n",
        "the difference between the highest and the lowest data value."
      ]
    },
    {
      "cell_type": "code",
      "metadata": {
        "id": "UkKKnO4zqonx",
        "colab_type": "code",
        "colab": {
          "base_uri": "https://localhost:8080/",
          "height": 34
        },
        "outputId": "d1ed1a52-38b4-4fd3-8a97-8d851806aace"
      },
      "source": [
        "x = np.arange(1, 101)\n",
        "range = np.ptp(x)\n",
        "range\n",
        "\n",
        "#ptp stands for \"peak-to-peak\""
      ],
      "execution_count": 11,
      "outputs": [
        {
          "output_type": "execute_result",
          "data": {
            "text/plain": [
              "99"
            ]
          },
          "metadata": {
            "tags": []
          },
          "execution_count": 11
        }
      ]
    },
    {
      "cell_type": "markdown",
      "metadata": {
        "id": "--rw5cOxszRZ",
        "colab_type": "text"
      },
      "source": [
        "**Percentiles**\n",
        "\n",
        "percentile are just the inverse of the CDF, and give the value below which a percentage of the data values occur."
      ]
    },
    {
      "cell_type": "code",
      "metadata": {
        "id": "fwd7dO_oqop9",
        "colab_type": "code",
        "colab": {
          "base_uri": "https://localhost:8080/",
          "height": 268
        },
        "outputId": "9dc6def7-efdd-4b3e-8531-f4db6b4771f7"
      },
      "source": [
        "#Let's creat the CDF first\n",
        "\n",
        "import numpy as np\n",
        "import matplotlib.pyplot as plt\n",
        "import seaborn as sns\n",
        "from scipy import stats\n",
        "\n",
        "#Create the frozen distribution, with the mean of 5 and the standard deviation of 3\n",
        "myDF = stats.norm(5, 3)\n",
        "\n",
        "x = np.linspace(-5, 15, 101)\n",
        "\n",
        "#Calculate the corresponding CDF\n",
        "y = myDF.cdf(x)\n",
        "\n",
        "#just for the aesthetics\n",
        "sns.set()\n",
        "\n",
        "plt.plot(x, y)\n",
        "plt.show()"
      ],
      "execution_count": 14,
      "outputs": [
        {
          "output_type": "display_data",
          "data": {
            "image/png": "[encoded data removed]",
            "text/plain": [
              "<Figure size 432x288 with 1 Axes>"
            ]
          },
          "metadata": {
            "tags": []
          }
        }
      ]
    },
    {
      "cell_type": "code",
      "metadata": {
        "id": "CK69_woVqosS",
        "colab_type": "code",
        "colab": {
          "base_uri": "https://localhost:8080/",
          "height": 302
        },
        "outputId": "66a63332-1166-4f29-894f-aa597c9ae102"
      },
      "source": [
        "#Let's find the range which includes 95% of the data\n",
        "#one has to find the 2.5th and the 97.5th percentile of the distribution above\n",
        "\n",
        "#PPF answers the question like \"Given a certain probability, what is the corresponding input value for the CDF?\"\n",
        "lower_percentile = myDF.ppf(0.025)\n",
        "upper_percentile = myDF.ppf(0.975)\n",
        "\n",
        "print(\"The 2.5th is {lower} and the 97.5th is {upper}, which includes 95% of the data\".format(lower = round(lower_percentile, 3), upper = round(upper_percentile, 3)))\n",
        "\n",
        "#To experiment if our outcome is correct or not by calculating the areas of PDF(Probability Density Function) from x = 2.5th percentile to x = 97.5th percentile\n",
        "from scipy import integrate\n",
        "import math\n",
        "\n",
        "#Specify the mean and the standard deviation\n",
        "mu = 5\n",
        "sigma = 3\n",
        "\n",
        "#Normal Distribution function --> 上網查常態分佈就能夠找到他機率密度函數的數學式\n",
        "def f(x):\n",
        "  son = sigma * math.sqrt(2 * math.pi)\n",
        "  element2 = math.pow(math.e, (math.pow((x - mu) ,2) * -1) / (2 * math.pow(sigma, 2)))\n",
        "  return (1 / son) * element2\n",
        "\n",
        "v, err = integrate.quad(f, lower_percentile, upper_percentile)\n",
        "print(\"The outcome of integration of PDF from -0.88 to 10.88 is\", round(v, 3))\n",
        "\n",
        "#Plotting the area\n",
        "x1 = np.linspace(-5, 15, 101)\n",
        "y1 = myDF.pdf(x1)\n",
        "plt.plot(x1, y1)\n",
        "plt.axvline(x = lower_percentile, color = \"r\")\n",
        "plt.axvline(x = upper_percentile, color = \"r\")\n",
        "plt.show()"
      ],
      "execution_count": 24,
      "outputs": [
        {
          "output_type": "stream",
          "text": [
            "The 2.5th is -0.88 and the 97.5th is 10.88, which includes 95% of the data\n",
            "The outcome of integration of PDF from -0.88 to 10.88 is 0.95\n"
          ],
          "name": "stdout"
        },
        {
          "output_type": "display_data",
          "data": {
            "image/png": "[encoded data removed]",
            "text/plain": [
              "<Figure size 432x288 with 1 Axes>"
            ]
          },
          "metadata": {
            "tags": []
          }
        }
      ]
    },
    {
      "cell_type": "markdown",
      "metadata": {
        "id": "PadRgdYHzgwc",
        "colab_type": "text"
      },
      "source": [
        "**Standard Deviation and Variance**"
      ]
    },
    {
      "cell_type": "code",
      "metadata": {
        "id": "Z-XN01hKqoun",
        "colab_type": "code",
        "colab": {
          "base_uri": "https://localhost:8080/",
          "height": 68
        },
        "outputId": "30ced733-ceea-43e6-b859-edb47debef7f"
      },
      "source": [
        "import math\n",
        "\n",
        "#苦工\n",
        "def variance(x):\n",
        "  output = 0\n",
        "  mean = np.mean(x)\n",
        "  for i in x:\n",
        "    output += math.pow((i - mean), 2)\n",
        "  return output / (len(x) - 1)\n",
        "\n",
        "def standard_deviation(x):\n",
        "  return math.sqrt(variance(x))\n",
        "\n",
        "print(\"mean\", np.mean(x))\n",
        "print(\"variance\", variance(np.linspace(0, 50, 100)))\n",
        "print(\"standard deviation\", standard_deviation(np.linspace(0, 50, 100)))"
      ],
      "execution_count": 30,
      "outputs": [
        {
          "output_type": "stream",
          "text": [
            "mean 5.000000000000001\n",
            "variance 214.68897731524\n",
            "standard deviation 14.652268674687889\n"
          ],
          "name": "stdout"
        }
      ]
    },
    {
      "cell_type": "code",
      "metadata": {
        "id": "kBIu31Kt-aiV",
        "colab_type": "code",
        "colab": {
          "base_uri": "https://localhost:8080/",
          "height": 34
        },
        "outputId": "db084ba5-4a79-4eea-fad5-e1d4fcc5a220"
      },
      "source": [
        "#用numpy方法\n",
        "\n",
        "import numpy as np\n",
        "\n",
        "#ddof stands for degree of freedom\n",
        "np.std(x, ddof = 0)"
      ],
      "execution_count": 29,
      "outputs": [
        {
          "output_type": "execute_result",
          "data": {
            "text/plain": [
              "5.830951894845301"
            ]
          },
          "metadata": {
            "tags": []
          },
          "execution_count": 29
        }
      ]
    },
    {
      "cell_type": "markdown",
      "metadata": {
        "id": "rSzg6DAQ_8Sc",
        "colab_type": "text"
      },
      "source": [
        "**Standard Error**\n",
        "\n",
        "the Standard Error is the estimate of the standard deviation of a coefficient."
      ]
    },
    {
      "cell_type": "code",
      "metadata": {
        "id": "o77pV6jw_Wl6",
        "colab_type": "code",
        "colab": {
          "base_uri": "https://localhost:8080/",
          "height": 322
        },
        "outputId": "3a8ab6db-d6f0-4fe2-9cd9-263beb5c72e0"
      },
      "source": [
        "#set random data\n",
        "data = np.random.randn(200) + 5\n",
        "\n",
        "#SEM\n",
        "sem = np.std(data, ddof = 1) / math.sqrt(len(data))\n",
        "\n",
        "#Plotting the random data\n",
        "plt.figure(figsize = (10, 5))\n",
        "plt.scatter(x = np.arange(1, 201), y = data)\n",
        "\n",
        "#Plotting the lines of mean\n",
        "plt.axhline(y = np.mean(data), color = \"r\")\n",
        "plt.text(x = 100, y = np.mean(data) + 0.1, s = \"mean\", fontsize = 20, color = \"black\")\n",
        "\n",
        "#Plotting the lines of standard deviation\n",
        "plt.axhline(y = np.mean(data) - np.std(data), color = \"green\")\n",
        "plt.text(x = 22, y = np.mean(data) + np.std(data) + 0.1, s = \"+1 SD\", fontsize = 20, color = \"red\")\n",
        "plt.axhline(y = np.mean(data) + np.std(data), color = \"green\")\n",
        "plt.text(x = 25, y = np.mean(data) - np.std(data) + 0.1, s = \"-1 SD\", fontsize = 20, color = \"red\")\n",
        "\n",
        "#Plotting the lines of SEM\n",
        "plt.axhline(y = np.mean(data) + sem, color = \"orange\")\n",
        "plt.text(x = 146, y = np.mean(data) + sem + 0.4, s =\"+1 SEM\" , color = \"purple\", fontsize = 20)\n",
        "plt.axhline(y = np.mean(data) - sem, color = \"orange\")\n",
        "plt.text(x = 150, y = np.mean(data) - sem - 0.4, s =\"-1 SEM\" , color = \"purple\", fontsize = 20)\n",
        "\n",
        "\n",
        "plt.show()"
      ],
      "execution_count": 65,
      "outputs": [
        {
          "output_type": "display_data",
          "data": {
            "image/png": "[encoded data removed]",
            "text/plain": [
              "<Figure size 720x360 with 1 Axes>"
            ]
          },
          "metadata": {
            "tags": []
          }
        }
      ]
    },
    {
      "cell_type": "markdown",
      "metadata": {
        "id": "zbAGBahcaDpr",
        "colab_type": "text"
      },
      "source": [
        "One hundred random points from a normal distribution about 5. The sample mean is very close to the real mean.\n",
        "\n",
        "The standard deviation of the mean, or standard error of the mean, is ten times smaller than the standard deviation of the samples."
      ]
    },
    {
      "cell_type": "markdown",
      "metadata": {
        "id": "76Sj5xnLbWD_",
        "colab_type": "text"
      },
      "source": [
        "**Confidence Intervals**\n",
        "\n",
        "The a% confidence interval(CI) reports the range that contains the true values for the parameter with a likelihood of a%"
      ]
    },
    {
      "cell_type": "code",
      "metadata": {
        "id": "3YIE_4fUEJDd",
        "colab_type": "code",
        "colab": {
          "base_uri": "https://localhost:8080/",
          "height": 34
        },
        "outputId": "0224d52f-8b00-42d1-d736-562c12e4ec2d"
      },
      "source": [
        "#If the sampling distribution is symmetrical and unimodal\n",
        "#it will often be possible to approximate the confidence interval by\n",
        "\n",
        "def confidence_interval(x, significance_level):\n",
        "  mean = np.mean(x)\n",
        "  std = np.std(x)\n",
        "  normal_distribution = stats.norm(mean, std)\n",
        "  ppf = normal_distribution.ppf((1 - significance_level) / 2)\n",
        "  upper = mean + std*ppf\n",
        "  lower = mean - std*ppf\n",
        "  return (lower, upper)\n",
        "\n",
        "confidence_interval(data, 0.05)\n"
      ],
      "execution_count": 68,
      "outputs": [
        {
          "output_type": "execute_result",
          "data": {
            "text/plain": [
              "(-0.016317290999999123, 10.039654360640746)"
            ]
          },
          "metadata": {
            "tags": []
          },
          "execution_count": 68
        }
      ]
    },
    {
      "cell_type": "code",
      "metadata": {
        "id": "L37aUZ3hfQsJ",
        "colab_type": "code",
        "colab": {}
      },
      "source": [
        ""
      ],
      "execution_count": 0,
      "outputs": []
    }
  ]
}